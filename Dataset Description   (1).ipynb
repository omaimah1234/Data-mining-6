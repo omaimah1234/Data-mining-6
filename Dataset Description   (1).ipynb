{
 "cells": [
  {
   "cell_type": "raw",
   "id": "5c6d396a",
   "metadata": {},
   "source": [
    "***\n",
    " \"Dataset Description\"\n",
    "***\n",
    "\n",
    "## The goal of collecting this dataset \n",
    "\n",
    "we will use this data set to assist financial institutions make informed decisions regarding loan\n",
    "approvals by analyzing customers’ payment behavior, as well as all their relevant attributes such \n",
    "as age, income, loan amount, employment status, etc.By utilizing this data, predictive models can\n",
    "be built to forecast customers’ creditworthiness and may be used as a tool for risk assessment and\n",
    "decision-making.\n",
    "\n",
    "## The source of the dataset, include link\\URL \n",
    "\n",
    "The dataset was sourced from the kaggle website in this URL:\n",
    "https://www.kaggle.com/datasets/ppb00x/credit-risk-customers \n",
    "\n",
    "## General information \n",
    "\n",
    "1- Number of Attributes: 21\n",
    "2- Number of Objects: 1001\n",
    "3- Type of Attributes:\n"
   ]
  },
  {
   "cell_type": "markdown",
   "id": "46400eb9",
   "metadata": {},
   "source": [
    "\n",
    "| Attribute name    | Data type |            Description             |\n",
    "|-------------------|-----------|------------------------------------|\n",
    "|checking_status    |Nominal    |the validity of credit card number  |\n",
    "|duration           |Numeric    |duration                            |\n",
    "|credit_history     |Nominal    |dept and other loans                |\n",
    "|savings_status     |Nominal    |if the customer is saving or not    |\n",
    "|age                |Numeric    |Age Of The credit customer          |\n",
    "|employment         |Nominal    |The employment status               |\n",
    "|other_payment_plans|Nominal |Other ways of payment                  |\n",
    "|personal_status    |Nominal     |single or married, male/female     |\n",
    "|housing            |Nominal     |The housing situation rent or owned| \n",
    "|class              |Nominal     |good or bad credit risks           |"
   ]
  },
  {
   "cell_type": "raw",
   "id": "4e33d098",
   "metadata": {},
   "source": [
    "# 4- class name and lable: The \"class\" which describes whether the customer is a good or bad credit risks. "
   ]
  },
  {
   "cell_type": "code",
   "execution_count": null,
   "id": "fa920aed",
   "metadata": {},
   "outputs": [],
   "source": []
  }
 ],
 "metadata": {
  "kernelspec": {
   "display_name": "R",
   "language": "R",
   "name": "ir"
  },
  "language_info": {
   "codemirror_mode": "r",
   "file_extension": ".r",
   "mimetype": "text/x-r-source",
   "name": "R",
   "pygments_lexer": "r",
   "version": "3.6.1"
  }
 },
 "nbformat": 4,
 "nbformat_minor": 5
}
