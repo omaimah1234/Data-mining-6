{
 "cells": [
  {
   "cell_type": "code",
   "execution_count": null,
   "id": "4436b9fe",
   "metadata": {},
   "outputs": [],
   "source": [
    "***\n",
    " \"Dataset Description\"\n",
    "***\n",
    "\n",
    "## The goal of collecting this dataset \n",
    "\n",
    "we will use this data set to assist financial institutions make informed decisions regarding loan\n",
    "approvals by analyzing customers’ payment behavior, as well as all their relevant attributes such \n",
    "as age, income, loan amount, employment status, etc.By utilizing this data, predictive models can\n",
    "be built to forecast customers’ creditworthiness and may be used as a tool for risk assessment and\n",
    "decision-making.\n",
    "\n",
    "## The source of the dataset, include link\\URL \n",
    "\n",
    "The dataset was sourced from the kaggle website in this URL:\n",
    "https://www.kaggle.com/datasets/ppb00x/credit-risk-customers \n",
    "\n",
    "## General information \n",
    "\n",
    "1- Number of Attributes: 21\n",
    "2- Number of Objects: 1001\n",
    "3- Type of Attributes: Nominal, Numeric\n",
    "4- Classes Names: \n",
    "- good credit risks\n",
    "- bad credit risks \n",
    "\n",
    "\n",
    "\n",
    "\n",
    "\n"
   ]
  }
 ],
 "metadata": {
  "kernelspec": {
   "display_name": "R",
   "language": "R",
   "name": "ir"
  },
  "language_info": {
   "codemirror_mode": "r",
   "file_extension": ".r",
   "mimetype": "text/x-r-source",
   "name": "R",
   "pygments_lexer": "r",
   "version": "3.6.1"
  }
 },
 "nbformat": 4,
 "nbformat_minor": 5
}
